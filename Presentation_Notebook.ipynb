{
 "cells": [
  {
   "cell_type": "code",
   "execution_count": 19,
   "metadata": {},
   "outputs": [],
   "source": [
    "# Import functions #\n",
    "import argparse,datetime,os,sys,time\n",
    "\n",
    "try:\n",
    "    import plotly.graph_objects as go\n",
    "except:\n",
    "    go = None  \n",
    "\n",
    "if go is None:\n",
    "    print(\"plotly is not installed\")\n",
    "\n",
    "import pandas as pd\n",
    "import plotly.graph_objects as go\n",
    "from ipywidgets import widgets\n",
    "\n",
    "from tools import load_groupfile, query_api, filterIQM, merge_dfs, make_vio_plot\n",
    "\n",
    "import ipywidgets as widgets\n",
    "from ipywidgets import interact, interact_manual"
   ]
  },
  {
   "cell_type": "code",
   "execution_count": 20,
   "metadata": {},
   "outputs": [],
   "source": [
    "#define widgets\n",
    "#modality_widget=widgets.Dropdown(\n",
    "#    options=['bold', 'structural'],\n",
    "#    description='Modality:',\n",
    "#    disabled=False)\n",
    "\n",
    "\n",
    "modality_widget=widgets.RadioButtons(\n",
    "    options=['bold', 'structural'],\n",
    "    description='Modality:',\n",
    "    disabled=False\n",
    ")\n",
    "\n",
    "TR_min=widgets.FloatSlider(\n",
    "    min=1.5,\n",
    "    max=5,\n",
    "    step=0.1,\n",
    "    description='TR min:',\n",
    "    disabled=False,\n",
    "    continuous_update=False,\n",
    "    orientation='horizontal',\n",
    "    readout=True,\n",
    "    readout_format='',\n",
    "    slider_color='white',\n",
    "    color='black'\n",
    ")\n",
    "\n",
    "\n",
    "TR_max=widgets.FloatSlider(\n",
    "    min=1.5,\n",
    "    max=4,\n",
    "    step=0.1,\n",
    "    description='TR max:',\n",
    "    disabled=False,\n",
    "    continuous_update=False,\n",
    "    orientation='horizontal',\n",
    "    readout=True,\n",
    "    readout_format='',\n",
    "    slider_color='white',\n",
    "    color='black'\n",
    ")\n",
    "\n",
    "\n",
    "\n",
    "TE_min=widgets.FloatSlider(\n",
    "    min=0,\n",
    "    max=.05,\n",
    "    step=0.001,\n",
    "    description='TE min:',\n",
    "    disabled=False,\n",
    "    continuous_update=False,\n",
    "    orientation='horizontal',\n",
    "    readout=True,\n",
    "    readout_format='',\n",
    "    slider_color='white',\n",
    "    color='black'\n",
    ")\n",
    "\n",
    "\n",
    "TE_max=widgets.FloatSlider(\n",
    "    min=0,\n",
    "    max=.05,\n",
    "    step=0.001,\n",
    "    description='TE max:',\n",
    "    disabled=False,\n",
    "    continuous_update=False,\n",
    "    orientation='horizontal',\n",
    "    readout=True,\n",
    "    readout_format='',\n",
    "    slider_color='white',\n",
    "    color='black'\n",
    ")\n",
    "\n",
    "\n",
    "select_parameters=widgets.SelectMultiple(\n",
    "    options=['TR_min', 'TR_max', 'TE_min', 'TE_max'],\n",
    "    description='Parameters',\n",
    "    disabled=False)"
   ]
  },
  {
   "cell_type": "code",
   "execution_count": 21,
   "metadata": {},
   "outputs": [
    {
     "data": {
      "application/vnd.jupyter.widget-view+json": {
       "model_id": "5a8b1ecc9e364cebb100d46e1939ef20",
       "version_major": 2,
       "version_minor": 0
      },
      "text/plain": [
       "RadioButtons(description='Modality:', options=('bold', 'structural'), value='bold')"
      ]
     },
     "metadata": {},
     "output_type": "display_data"
    }
   ],
   "source": [
    "display(modality_widget)"
   ]
  },
  {
   "cell_type": "code",
   "execution_count": 22,
   "metadata": {},
   "outputs": [
    {
     "data": {
      "application/vnd.jupyter.widget-view+json": {
       "model_id": "4d2621bb98ba440687dc70200226a5c2",
       "version_major": 2,
       "version_minor": 0
      },
      "text/plain": [
       "SelectMultiple(description='Parameters', options=('TR_min', 'TR_max', 'TE_min', 'TE_max'), value=())"
      ]
     },
     "metadata": {},
     "output_type": "display_data"
    },
    {
     "data": {
      "text/plain": [
       "'If empty, no parameter restrictions will applied'"
      ]
     },
     "execution_count": 22,
     "metadata": {},
     "output_type": "execute_result"
    }
   ],
   "source": [
    "modal=modality_widget.value\n",
    "display(select_parameters)\n",
    "\"If empty, no parameter restrictions will applied\""
   ]
  },
  {
   "cell_type": "code",
   "execution_count": 23,
   "metadata": {},
   "outputs": [],
   "source": [
    "for i in select_parameters.value:\n",
    "        display(eval(i))"
   ]
  },
  {
   "cell_type": "code",
   "execution_count": 24,
   "metadata": {},
   "outputs": [
    {
     "name": "stdout",
     "output_type": "stream",
     "text": [
      "[]\n"
     ]
    }
   ],
   "source": [
    "to_filter=select_parameters.value\n",
    "filter_list=[]\n",
    "filter_dict={'TR_min': \"TR >= {}\".format(TR_min.value),\n",
    "             'TR_max': \"TR < {}\".format(TR_max.value),\n",
    "             'TE_min': \"TE >= {}\".format(TE_min.value),\n",
    "             'TE_max': \"TE < {}\".format(TE_max.value)\n",
    "            }\n",
    "\n",
    "for item in to_filter:\n",
    "    add_item=filter_dict.get(item)\n",
    "    filter_list.append(add_item)\n",
    "    \n",
    "print(filter_list)\n",
    "#filter_list= ['TR > 2.2', 'TR < 3']"
   ]
  },
  {
   "cell_type": "code",
   "execution_count": 75,
   "metadata": {},
   "outputs": [],
   "source": [
    "# Arguments #\n",
    "\n",
    "# laziness helper\n",
    "# here = os.path.dirname(os.path.abspath(os.path.realpath(__file__)))\n",
    "here = %pwd\n",
    "\n",
    "# path to input of local bold data from MRIQC on your own dataset \n",
    "# group_file = '/Volumes/Egner/Lab/StabFlex/Data/Processed_Data/mriqc_out/group_bold.tsv'\n",
    "\n",
    "# scan type to query the API for [bold, T1w, T2w]\n",
    "# modality = 'bold'\n",
    "\n",
    "# path to input of local anat data from MRIQC on your own dataset \n",
    "group_file = '/Volumes/Egner/Lab/StabFlex/Data/Processed_Data/mriqc_out/group_T1w.tsv'\n",
    "\n",
    "# scan type to query the API for [bold, T1w, T2w]\n",
    "modality = 'T1w'\n",
    "\n",
    "# any scan parameters that you want to filter the API search results by\n",
    "\"\"\"Current possible filters:\n",
    "   Tesla, TE, TR\n",
    "   NOTE: Only working as *and* right now!\n",
    "\"\"\"\n",
    "\n",
    "\n",
    "# IQM variables to visualize\n",
    "# these are the variables for the bold\n",
    "# IQM_to_plot = ['aor','aqi','dummy_trs','dvars_nstd','dvars_std','dvars_vstd',\n",
    "#                     'efc','fber','fd_mean','fd_num','fd_perc','fwhm_avg','fwhm_x','fwhm_y',\n",
    "#                     'fwhm_z','gcor','gsr_x','gsr_y','snr','summary_bg_k','summary_bg_mad',\n",
    "#                     'summary_bg_mean','summary_bg_median','summary_bg_n','summary_bg_p05',\n",
    "#                     'summary_bg_p95','summary_bg_stdv','summary_fg_k','summary_fg_mad',\n",
    "#                     'summary_fg_mean','summary_fg_median','summary_fg_n','summary_fg_p05',\n",
    "#                     'summary_fg_p95','summary_fg_stdv','tsnr']\n",
    "\n",
    "# these are the variables for the T1w\n",
    "IQM_to_plot = ['cjv', 'cnr', 'efc', 'fber', 'wm2max', 'snr', 'summary_bg_mean', 'summary_csf_mean', 'summary_gm_mean', 'summary_wm_mean']"
   ]
  },
  {
   "cell_type": "code",
   "execution_count": 76,
   "metadata": {},
   "outputs": [
    {
     "data": {
      "text/plain": [
       "(60, 69)"
      ]
     },
     "execution_count": 76,
     "metadata": {},
     "output_type": "execute_result"
    }
   ],
   "source": [
    "# Load in your own data # \n",
    "\n",
    "# This should be a .csv or .tsv file outputted from MRIQC on your own data\n",
    "# This will return a pandas dataframe of the MRIQC data from your experiment\n",
    "\n",
    "userdf = load_groupfile(group_file)\n",
    "# userdf.head()\n",
    "userdf.shape"
   ]
  },
  {
   "cell_type": "code",
   "execution_count": 77,
   "metadata": {},
   "outputs": [
    {
     "name": "stdout",
     "output_type": "stream",
     "text": [
      "(1000, 102)\n",
      "(1000, 102)\n"
     ]
    }
   ],
   "source": [
    "# Load and filter data from the API # \n",
    "\n",
    "# Figure out which to get from modality arg #\n",
    "T1apicsv = os.path.join(here, 'demo_api', 'T1w_demo.csv')\n",
    "T2apicsv = os.path.join(here, 'demo_api', 'T2w_demo.csv')\n",
    "boldapicsv = os.path.join(here, 'demo_api', 'bold_demo.csv')\n",
    "\n",
    "if modality == 'T1w':\n",
    "    api_file = T1apicsv\n",
    "elif modality == 'T2w':\n",
    "    api_file = T1apicsv\n",
    "elif modality == 'bold':\n",
    "    api_file = boldapicsv\n",
    "\n",
    "# This will return a pandas dataframe with data from all scans of the given scan type\n",
    "# with the given parameters \n",
    "\n",
    "apidf = pd.read_csv(api_file)\n",
    "if not filter_list == []:\n",
    "    filtered_apidf = filterIQM(apidf,filter_list)\n",
    "else:\n",
    "    filtered_apidf = apidf\n",
    "\n",
    "# apidf.head()\n",
    "print(apidf.shape)\n",
    "# filtered_apidf.head()\n",
    "print(filtered_apidf.shape)\n",
    "#print(list(filtered_apidf))"
   ]
  },
  {
   "cell_type": "code",
   "execution_count": 78,
   "metadata": {},
   "outputs": [
    {
     "data": {
      "text/plain": [
       "(1060, 103)"
      ]
     },
     "execution_count": 78,
     "metadata": {},
     "output_type": "execute_result"
    }
   ],
   "source": [
    "# Merge dataframes # \n",
    "\n",
    "# Takes the user data and API data and merges it into one dataframe \n",
    "# This will return a single pandas dataframe with the local data and API data merged, with a \"group\" measure to allow for a \"groupby\" \n",
    "# this needs to be updated with actual function name and information about how to use  \n",
    "\n",
    "vis_ready_df = merge_dfs(userdf.copy(), filtered_apidf.copy())\n",
    "#print(vis_ready_df.head())\n",
    "#print(vis_ready_df.tail())\n",
    "vis_ready_df.shape\n",
    "\n"
   ]
  },
  {
   "cell_type": "markdown",
   "metadata": {},
   "source": [
    "### Color coding\n",
    "Families of IQMs are color-coded. In each plot, the API data is shown in dark gray, and the user's data is shown in the appropriate color. \n",
    "- spatial IQMs: gold\n",
    "- temporal IQMs: orange\n",
    "- noise IQMs: red\n",
    "- motion IQMs: green\n",
    "- artifact IQMs: light blue\n",
    "- descriptive IQMs: dark blue\n",
    "- other IQMs: purple"
   ]
  },
  {
   "cell_type": "code",
   "execution_count": 79,
   "metadata": {},
   "outputs": [
    {
     "name": "stdout",
     "output_type": "stream",
     "text": [
      "Loading in dataframe...\n",
      "Loading variables: ['cjv', 'cnr', 'efc', 'fber', 'wm2max', 'snr', 'summary_bg_mean', 'summary_csf_mean', 'summary_gm_mean', 'summary_wm_mean']\n",
      "Loading in data descriptors...\n"
     ]
    },
    {
     "name": "stderr",
     "output_type": "stream",
     "text": [
      "/Users/jinjiang-macair/anaconda3/envs/ieeg/lib/python3.11/site-packages/jupyter_client/session.py:719: UserWarning:\n",
      "\n",
      "Message serialization failed with:\n",
      "Out of range float values are not JSON compliant\n",
      "Supporting this message is deprecated in jupyter-client 7, please make sure your message is JSON-compliant\n",
      "\n"
     ]
    },
    {
     "data": {
      "application/vnd.jupyter.widget-view+json": {
       "model_id": "4fb5e97ee6084cd99bf21174341177ea",
       "version_major": 2,
       "version_minor": 0
      },
      "text/plain": [
       "VBox(children=(Dropdown(description='IQM:', options=('cjv', 'cnr', 'efc', 'fber', 'wm2max', 'snr', 'summary_bg…"
      ]
     },
     "execution_count": 79,
     "metadata": {},
     "output_type": "execute_result"
    },
    {
     "name": "stderr",
     "output_type": "stream",
     "text": [
      "/Users/jinjiang-macair/anaconda3/envs/ieeg/lib/python3.11/site-packages/jupyter_client/session.py:719: UserWarning:\n",
      "\n",
      "Message serialization failed with:\n",
      "Out of range float values are not JSON compliant\n",
      "Supporting this message is deprecated in jupyter-client 7, please make sure your message is JSON-compliant\n",
      "\n"
     ]
    },
    {
     "ename": "IndexError",
     "evalue": "cannot do a non-empty take from an empty axes.",
     "output_type": "error",
     "traceback": [
      "\u001b[0;31m---------------------------------------------------------------------------\u001b[0m",
      "\u001b[0;31mIndexError\u001b[0m                                Traceback (most recent call last)",
      "File \u001b[0;32m~/anaconda3/envs/ieeg/lib/python3.11/site-packages/ipywidgets/widgets/widget.py:773\u001b[0m, in \u001b[0;36mWidget._handle_msg\u001b[0;34m(self, msg)\u001b[0m\n\u001b[1;32m    771\u001b[0m         \u001b[38;5;28;01mif\u001b[39;00m \u001b[38;5;124m'\u001b[39m\u001b[38;5;124mbuffer_paths\u001b[39m\u001b[38;5;124m'\u001b[39m \u001b[38;5;129;01min\u001b[39;00m data:\n\u001b[1;32m    772\u001b[0m             _put_buffers(state, data[\u001b[38;5;124m'\u001b[39m\u001b[38;5;124mbuffer_paths\u001b[39m\u001b[38;5;124m'\u001b[39m], msg[\u001b[38;5;124m'\u001b[39m\u001b[38;5;124mbuffers\u001b[39m\u001b[38;5;124m'\u001b[39m])\n\u001b[0;32m--> 773\u001b[0m         \u001b[38;5;28mself\u001b[39m\u001b[38;5;241m.\u001b[39mset_state(state)\n\u001b[1;32m    775\u001b[0m \u001b[38;5;66;03m# Handle a state request.\u001b[39;00m\n\u001b[1;32m    776\u001b[0m \u001b[38;5;28;01melif\u001b[39;00m method \u001b[38;5;241m==\u001b[39m \u001b[38;5;124m'\u001b[39m\u001b[38;5;124mrequest_state\u001b[39m\u001b[38;5;124m'\u001b[39m:\n",
      "File \u001b[0;32m~/anaconda3/envs/ieeg/lib/python3.11/site-packages/ipywidgets/widgets/widget.py:650\u001b[0m, in \u001b[0;36mWidget.set_state\u001b[0;34m(self, sync_data)\u001b[0m\n\u001b[1;32m    645\u001b[0m         \u001b[38;5;28mself\u001b[39m\u001b[38;5;241m.\u001b[39m_send(msg, buffers\u001b[38;5;241m=\u001b[39mecho_buffers)\n\u001b[1;32m    647\u001b[0m \u001b[38;5;66;03m# The order of these context managers is important. Properties must\u001b[39;00m\n\u001b[1;32m    648\u001b[0m \u001b[38;5;66;03m# be locked when the hold_trait_notification context manager is\u001b[39;00m\n\u001b[1;32m    649\u001b[0m \u001b[38;5;66;03m# released and notifications are fired.\u001b[39;00m\n\u001b[0;32m--> 650\u001b[0m \u001b[38;5;28;01mwith\u001b[39;00m \u001b[38;5;28mself\u001b[39m\u001b[38;5;241m.\u001b[39m_lock_property(\u001b[38;5;241m*\u001b[39m\u001b[38;5;241m*\u001b[39msync_data), \u001b[38;5;28mself\u001b[39m\u001b[38;5;241m.\u001b[39mhold_trait_notifications():\n\u001b[1;32m    651\u001b[0m     \u001b[38;5;28;01mfor\u001b[39;00m name \u001b[38;5;129;01min\u001b[39;00m sync_data:\n\u001b[1;32m    652\u001b[0m         \u001b[38;5;28;01mif\u001b[39;00m name \u001b[38;5;129;01min\u001b[39;00m \u001b[38;5;28mself\u001b[39m\u001b[38;5;241m.\u001b[39mkeys:\n",
      "File \u001b[0;32m~/anaconda3/envs/ieeg/lib/python3.11/contextlib.py:144\u001b[0m, in \u001b[0;36m_GeneratorContextManager.__exit__\u001b[0;34m(self, typ, value, traceback)\u001b[0m\n\u001b[1;32m    142\u001b[0m \u001b[38;5;28;01mif\u001b[39;00m typ \u001b[38;5;129;01mis\u001b[39;00m \u001b[38;5;28;01mNone\u001b[39;00m:\n\u001b[1;32m    143\u001b[0m     \u001b[38;5;28;01mtry\u001b[39;00m:\n\u001b[0;32m--> 144\u001b[0m         \u001b[38;5;28mnext\u001b[39m(\u001b[38;5;28mself\u001b[39m\u001b[38;5;241m.\u001b[39mgen)\n\u001b[1;32m    145\u001b[0m     \u001b[38;5;28;01mexcept\u001b[39;00m \u001b[38;5;167;01mStopIteration\u001b[39;00m:\n\u001b[1;32m    146\u001b[0m         \u001b[38;5;28;01mreturn\u001b[39;00m \u001b[38;5;28;01mFalse\u001b[39;00m\n",
      "File \u001b[0;32m~/anaconda3/envs/ieeg/lib/python3.11/site-packages/traitlets/traitlets.py:1498\u001b[0m, in \u001b[0;36mHasTraits.hold_trait_notifications\u001b[0;34m(self)\u001b[0m\n\u001b[1;32m   1496\u001b[0m \u001b[38;5;28;01mfor\u001b[39;00m changes \u001b[38;5;129;01min\u001b[39;00m cache\u001b[38;5;241m.\u001b[39mvalues():\n\u001b[1;32m   1497\u001b[0m     \u001b[38;5;28;01mfor\u001b[39;00m change \u001b[38;5;129;01min\u001b[39;00m changes:\n\u001b[0;32m-> 1498\u001b[0m         \u001b[38;5;28mself\u001b[39m\u001b[38;5;241m.\u001b[39mnotify_change(change)\n",
      "File \u001b[0;32m~/anaconda3/envs/ieeg/lib/python3.11/site-packages/ipywidgets/widgets/widget.py:701\u001b[0m, in \u001b[0;36mWidget.notify_change\u001b[0;34m(self, change)\u001b[0m\n\u001b[1;32m    698\u001b[0m     \u001b[38;5;28;01mif\u001b[39;00m name \u001b[38;5;129;01min\u001b[39;00m \u001b[38;5;28mself\u001b[39m\u001b[38;5;241m.\u001b[39mkeys \u001b[38;5;129;01mand\u001b[39;00m \u001b[38;5;28mself\u001b[39m\u001b[38;5;241m.\u001b[39m_should_send_property(name, \u001b[38;5;28mgetattr\u001b[39m(\u001b[38;5;28mself\u001b[39m, name)):\n\u001b[1;32m    699\u001b[0m         \u001b[38;5;66;03m# Send new state to front-end\u001b[39;00m\n\u001b[1;32m    700\u001b[0m         \u001b[38;5;28mself\u001b[39m\u001b[38;5;241m.\u001b[39msend_state(key\u001b[38;5;241m=\u001b[39mname)\n\u001b[0;32m--> 701\u001b[0m \u001b[38;5;28msuper\u001b[39m()\u001b[38;5;241m.\u001b[39mnotify_change(change)\n",
      "File \u001b[0;32m~/anaconda3/envs/ieeg/lib/python3.11/site-packages/traitlets/traitlets.py:1513\u001b[0m, in \u001b[0;36mHasTraits.notify_change\u001b[0;34m(self, change)\u001b[0m\n\u001b[1;32m   1511\u001b[0m \u001b[38;5;28;01mdef\u001b[39;00m \u001b[38;5;21mnotify_change\u001b[39m(\u001b[38;5;28mself\u001b[39m, change):\n\u001b[1;32m   1512\u001b[0m \u001b[38;5;250m    \u001b[39m\u001b[38;5;124;03m\"\"\"Notify observers of a change event\"\"\"\u001b[39;00m\n\u001b[0;32m-> 1513\u001b[0m     \u001b[38;5;28;01mreturn\u001b[39;00m \u001b[38;5;28mself\u001b[39m\u001b[38;5;241m.\u001b[39m_notify_observers(change)\n",
      "File \u001b[0;32m~/anaconda3/envs/ieeg/lib/python3.11/site-packages/traitlets/traitlets.py:1560\u001b[0m, in \u001b[0;36mHasTraits._notify_observers\u001b[0;34m(self, event)\u001b[0m\n\u001b[1;32m   1557\u001b[0m \u001b[38;5;28;01melif\u001b[39;00m \u001b[38;5;28misinstance\u001b[39m(c, EventHandler) \u001b[38;5;129;01mand\u001b[39;00m c\u001b[38;5;241m.\u001b[39mname \u001b[38;5;129;01mis\u001b[39;00m \u001b[38;5;129;01mnot\u001b[39;00m \u001b[38;5;28;01mNone\u001b[39;00m:\n\u001b[1;32m   1558\u001b[0m     c \u001b[38;5;241m=\u001b[39m \u001b[38;5;28mgetattr\u001b[39m(\u001b[38;5;28mself\u001b[39m, c\u001b[38;5;241m.\u001b[39mname)\n\u001b[0;32m-> 1560\u001b[0m c(event)\n",
      "File \u001b[0;32m~/anaconda3/envs/ieeg/lib/python3.11/site-packages/ipywidgets/widgets/widget_selection.py:236\u001b[0m, in \u001b[0;36m_Selection._propagate_index\u001b[0;34m(self, change)\u001b[0m\n\u001b[1;32m    234\u001b[0m     \u001b[38;5;28mself\u001b[39m\u001b[38;5;241m.\u001b[39mlabel \u001b[38;5;241m=\u001b[39m label\n\u001b[1;32m    235\u001b[0m \u001b[38;5;28;01mif\u001b[39;00m \u001b[38;5;28mself\u001b[39m\u001b[38;5;241m.\u001b[39mvalue \u001b[38;5;129;01mis\u001b[39;00m \u001b[38;5;129;01mnot\u001b[39;00m value:\n\u001b[0;32m--> 236\u001b[0m     \u001b[38;5;28mself\u001b[39m\u001b[38;5;241m.\u001b[39mvalue \u001b[38;5;241m=\u001b[39m value\n",
      "File \u001b[0;32m~/anaconda3/envs/ieeg/lib/python3.11/site-packages/traitlets/traitlets.py:729\u001b[0m, in \u001b[0;36mTraitType.__set__\u001b[0;34m(self, obj, value)\u001b[0m\n\u001b[1;32m    727\u001b[0m     \u001b[38;5;28;01mraise\u001b[39;00m TraitError(\u001b[38;5;124m'\u001b[39m\u001b[38;5;124mThe \u001b[39m\u001b[38;5;124m\"\u001b[39m\u001b[38;5;132;01m%s\u001b[39;00m\u001b[38;5;124m\"\u001b[39m\u001b[38;5;124m trait is read-only.\u001b[39m\u001b[38;5;124m'\u001b[39m \u001b[38;5;241m%\u001b[39m \u001b[38;5;28mself\u001b[39m\u001b[38;5;241m.\u001b[39mname)\n\u001b[1;32m    728\u001b[0m \u001b[38;5;28;01melse\u001b[39;00m:\n\u001b[0;32m--> 729\u001b[0m     \u001b[38;5;28mself\u001b[39m\u001b[38;5;241m.\u001b[39mset(obj, value)\n",
      "File \u001b[0;32m~/anaconda3/envs/ieeg/lib/python3.11/site-packages/traitlets/traitlets.py:718\u001b[0m, in \u001b[0;36mTraitType.set\u001b[0;34m(self, obj, value)\u001b[0m\n\u001b[1;32m    714\u001b[0m     silent \u001b[38;5;241m=\u001b[39m \u001b[38;5;28;01mFalse\u001b[39;00m\n\u001b[1;32m    715\u001b[0m \u001b[38;5;28;01mif\u001b[39;00m silent \u001b[38;5;129;01mis\u001b[39;00m \u001b[38;5;129;01mnot\u001b[39;00m \u001b[38;5;28;01mTrue\u001b[39;00m:\n\u001b[1;32m    716\u001b[0m     \u001b[38;5;66;03m# we explicitly compare silent to True just in case the equality\u001b[39;00m\n\u001b[1;32m    717\u001b[0m     \u001b[38;5;66;03m# comparison above returns something other than True/False\u001b[39;00m\n\u001b[0;32m--> 718\u001b[0m     obj\u001b[38;5;241m.\u001b[39m_notify_trait(\u001b[38;5;28mself\u001b[39m\u001b[38;5;241m.\u001b[39mname, old_value, new_value)\n",
      "File \u001b[0;32m~/anaconda3/envs/ieeg/lib/python3.11/site-packages/traitlets/traitlets.py:1501\u001b[0m, in \u001b[0;36mHasTraits._notify_trait\u001b[0;34m(self, name, old_value, new_value)\u001b[0m\n\u001b[1;32m   1500\u001b[0m \u001b[38;5;28;01mdef\u001b[39;00m \u001b[38;5;21m_notify_trait\u001b[39m(\u001b[38;5;28mself\u001b[39m, name, old_value, new_value):\n\u001b[0;32m-> 1501\u001b[0m     \u001b[38;5;28mself\u001b[39m\u001b[38;5;241m.\u001b[39mnotify_change(\n\u001b[1;32m   1502\u001b[0m         Bunch(\n\u001b[1;32m   1503\u001b[0m             name\u001b[38;5;241m=\u001b[39mname,\n\u001b[1;32m   1504\u001b[0m             old\u001b[38;5;241m=\u001b[39mold_value,\n\u001b[1;32m   1505\u001b[0m             new\u001b[38;5;241m=\u001b[39mnew_value,\n\u001b[1;32m   1506\u001b[0m             owner\u001b[38;5;241m=\u001b[39m\u001b[38;5;28mself\u001b[39m,\n\u001b[1;32m   1507\u001b[0m             \u001b[38;5;28mtype\u001b[39m\u001b[38;5;241m=\u001b[39m\u001b[38;5;124m\"\u001b[39m\u001b[38;5;124mchange\u001b[39m\u001b[38;5;124m\"\u001b[39m,\n\u001b[1;32m   1508\u001b[0m         )\n\u001b[1;32m   1509\u001b[0m     )\n",
      "File \u001b[0;32m~/anaconda3/envs/ieeg/lib/python3.11/site-packages/ipywidgets/widgets/widget.py:701\u001b[0m, in \u001b[0;36mWidget.notify_change\u001b[0;34m(self, change)\u001b[0m\n\u001b[1;32m    698\u001b[0m     \u001b[38;5;28;01mif\u001b[39;00m name \u001b[38;5;129;01min\u001b[39;00m \u001b[38;5;28mself\u001b[39m\u001b[38;5;241m.\u001b[39mkeys \u001b[38;5;129;01mand\u001b[39;00m \u001b[38;5;28mself\u001b[39m\u001b[38;5;241m.\u001b[39m_should_send_property(name, \u001b[38;5;28mgetattr\u001b[39m(\u001b[38;5;28mself\u001b[39m, name)):\n\u001b[1;32m    699\u001b[0m         \u001b[38;5;66;03m# Send new state to front-end\u001b[39;00m\n\u001b[1;32m    700\u001b[0m         \u001b[38;5;28mself\u001b[39m\u001b[38;5;241m.\u001b[39msend_state(key\u001b[38;5;241m=\u001b[39mname)\n\u001b[0;32m--> 701\u001b[0m \u001b[38;5;28msuper\u001b[39m()\u001b[38;5;241m.\u001b[39mnotify_change(change)\n",
      "File \u001b[0;32m~/anaconda3/envs/ieeg/lib/python3.11/site-packages/traitlets/traitlets.py:1513\u001b[0m, in \u001b[0;36mHasTraits.notify_change\u001b[0;34m(self, change)\u001b[0m\n\u001b[1;32m   1511\u001b[0m \u001b[38;5;28;01mdef\u001b[39;00m \u001b[38;5;21mnotify_change\u001b[39m(\u001b[38;5;28mself\u001b[39m, change):\n\u001b[1;32m   1512\u001b[0m \u001b[38;5;250m    \u001b[39m\u001b[38;5;124;03m\"\"\"Notify observers of a change event\"\"\"\u001b[39;00m\n\u001b[0;32m-> 1513\u001b[0m     \u001b[38;5;28;01mreturn\u001b[39;00m \u001b[38;5;28mself\u001b[39m\u001b[38;5;241m.\u001b[39m_notify_observers(change)\n",
      "File \u001b[0;32m~/anaconda3/envs/ieeg/lib/python3.11/site-packages/traitlets/traitlets.py:1560\u001b[0m, in \u001b[0;36mHasTraits._notify_observers\u001b[0;34m(self, event)\u001b[0m\n\u001b[1;32m   1557\u001b[0m \u001b[38;5;28;01melif\u001b[39;00m \u001b[38;5;28misinstance\u001b[39m(c, EventHandler) \u001b[38;5;129;01mand\u001b[39;00m c\u001b[38;5;241m.\u001b[39mname \u001b[38;5;129;01mis\u001b[39;00m \u001b[38;5;129;01mnot\u001b[39;00m \u001b[38;5;28;01mNone\u001b[39;00m:\n\u001b[1;32m   1558\u001b[0m     c \u001b[38;5;241m=\u001b[39m \u001b[38;5;28mgetattr\u001b[39m(\u001b[38;5;28mself\u001b[39m, c\u001b[38;5;241m.\u001b[39mname)\n\u001b[0;32m-> 1560\u001b[0m c(event)\n",
      "File \u001b[0;32m~/Library/CloudStorage/OneDrive-DukeUniversity/Duke/EgnerLab/mriqception/tools/figs.py:248\u001b[0m, in \u001b[0;36mresponse\u001b[0;34m(change)\u001b[0m\n\u001b[1;32m    241\u001b[0m fig_widget \u001b[38;5;241m=\u001b[39m go\u001b[38;5;241m.\u001b[39mFigureWidget(fig)\n\u001b[1;32m    243\u001b[0m \u001b[38;5;66;03m# create a dropdown menu widget for the variable name\u001b[39;00m\n\u001b[1;32m    244\u001b[0m dropdown_widget \u001b[38;5;241m=\u001b[39m widgets\u001b[38;5;241m.\u001b[39mDropdown(\n\u001b[1;32m    245\u001b[0m         options\u001b[38;5;241m=\u001b[39mvariables,\n\u001b[1;32m    246\u001b[0m         value\u001b[38;5;241m=\u001b[39mvar_name,\n\u001b[1;32m    247\u001b[0m         description\u001b[38;5;241m=\u001b[39m\u001b[38;5;124m'\u001b[39m\u001b[38;5;124mIQM:\u001b[39m\u001b[38;5;124m'\u001b[39m,\n\u001b[0;32m--> 248\u001b[0m         )\n\u001b[1;32m    249\u001b[0m \u001b[38;5;66;03m# define the changes that occur based on the choice in the dropdown menu\u001b[39;00m\n\u001b[1;32m    250\u001b[0m \u001b[38;5;28;01mdef\u001b[39;00m \u001b[38;5;21mresponse\u001b[39m(change):\n",
      "File \u001b[0;32m~/Library/CloudStorage/OneDrive-DukeUniversity/Duke/EgnerLab/mriqception/tools/figs.py:182\u001b[0m, in \u001b[0;36mmake_vio_plot.<locals>.remove_outliers_from_api\u001b[0;34m(API_data, outliers)\u001b[0m\n\u001b[1;32m    178\u001b[0m \u001b[38;5;28;01mdef\u001b[39;00m \u001b[38;5;21mremove_outliers_from_api\u001b[39m(API_data,outliers):\n\u001b[1;32m    179\u001b[0m \n\u001b[1;32m    180\u001b[0m     \u001b[38;5;66;03m# identify some outliers\u001b[39;00m\n\u001b[1;32m    181\u001b[0m     \u001b[38;5;28;01mif\u001b[39;00m outliers:\n\u001b[0;32m--> 182\u001b[0m         q75, q25 \u001b[38;5;241m=\u001b[39m np\u001b[38;5;241m.\u001b[39mpercentile(API_data, [\u001b[38;5;241m75\u001b[39m ,\u001b[38;5;241m25\u001b[39m])\n\u001b[1;32m    183\u001b[0m         iqr \u001b[38;5;241m=\u001b[39m q75 \u001b[38;5;241m-\u001b[39m q25\n\u001b[1;32m    184\u001b[0m         min_out \u001b[38;5;241m=\u001b[39m q25\u001b[38;5;241m-\u001b[39m\u001b[38;5;241m1.5\u001b[39m\u001b[38;5;241m*\u001b[39miqr\n",
      "File \u001b[0;32m<__array_function__ internals>:200\u001b[0m, in \u001b[0;36mpercentile\u001b[0;34m(*args, **kwargs)\u001b[0m\n",
      "File \u001b[0;32m~/anaconda3/envs/ieeg/lib/python3.11/site-packages/numpy/lib/function_base.py:4205\u001b[0m, in \u001b[0;36mpercentile\u001b[0;34m(a, q, axis, out, overwrite_input, method, keepdims, interpolation)\u001b[0m\n\u001b[1;32m   4203\u001b[0m \u001b[38;5;28;01mif\u001b[39;00m \u001b[38;5;129;01mnot\u001b[39;00m _quantile_is_valid(q):\n\u001b[1;32m   4204\u001b[0m     \u001b[38;5;28;01mraise\u001b[39;00m \u001b[38;5;167;01mValueError\u001b[39;00m(\u001b[38;5;124m\"\u001b[39m\u001b[38;5;124mPercentiles must be in the range [0, 100]\u001b[39m\u001b[38;5;124m\"\u001b[39m)\n\u001b[0;32m-> 4205\u001b[0m \u001b[38;5;28;01mreturn\u001b[39;00m _quantile_unchecked(\n\u001b[1;32m   4206\u001b[0m     a, q, axis, out, overwrite_input, method, keepdims)\n",
      "File \u001b[0;32m~/anaconda3/envs/ieeg/lib/python3.11/site-packages/numpy/lib/function_base.py:4473\u001b[0m, in \u001b[0;36m_quantile_unchecked\u001b[0;34m(a, q, axis, out, overwrite_input, method, keepdims)\u001b[0m\n\u001b[1;32m   4465\u001b[0m \u001b[38;5;28;01mdef\u001b[39;00m \u001b[38;5;21m_quantile_unchecked\u001b[39m(a,\n\u001b[1;32m   4466\u001b[0m                         q,\n\u001b[1;32m   4467\u001b[0m                         axis\u001b[38;5;241m=\u001b[39m\u001b[38;5;28;01mNone\u001b[39;00m,\n\u001b[0;32m   (...)\u001b[0m\n\u001b[1;32m   4470\u001b[0m                         method\u001b[38;5;241m=\u001b[39m\u001b[38;5;124m\"\u001b[39m\u001b[38;5;124mlinear\u001b[39m\u001b[38;5;124m\"\u001b[39m,\n\u001b[1;32m   4471\u001b[0m                         keepdims\u001b[38;5;241m=\u001b[39m\u001b[38;5;28;01mFalse\u001b[39;00m):\n\u001b[1;32m   4472\u001b[0m \u001b[38;5;250m    \u001b[39m\u001b[38;5;124;03m\"\"\"Assumes that q is in [0, 1], and is an ndarray\"\"\"\u001b[39;00m\n\u001b[0;32m-> 4473\u001b[0m     \u001b[38;5;28;01mreturn\u001b[39;00m _ureduce(a,\n\u001b[1;32m   4474\u001b[0m                     func\u001b[38;5;241m=\u001b[39m_quantile_ureduce_func,\n\u001b[1;32m   4475\u001b[0m                     q\u001b[38;5;241m=\u001b[39mq,\n\u001b[1;32m   4476\u001b[0m                     keepdims\u001b[38;5;241m=\u001b[39mkeepdims,\n\u001b[1;32m   4477\u001b[0m                     axis\u001b[38;5;241m=\u001b[39maxis,\n\u001b[1;32m   4478\u001b[0m                     out\u001b[38;5;241m=\u001b[39mout,\n\u001b[1;32m   4479\u001b[0m                     overwrite_input\u001b[38;5;241m=\u001b[39moverwrite_input,\n\u001b[1;32m   4480\u001b[0m                     method\u001b[38;5;241m=\u001b[39mmethod)\n",
      "File \u001b[0;32m~/anaconda3/envs/ieeg/lib/python3.11/site-packages/numpy/lib/function_base.py:3752\u001b[0m, in \u001b[0;36m_ureduce\u001b[0;34m(a, func, keepdims, **kwargs)\u001b[0m\n\u001b[1;32m   3749\u001b[0m             index_out \u001b[38;5;241m=\u001b[39m (\u001b[38;5;241m0\u001b[39m, ) \u001b[38;5;241m*\u001b[39m nd\n\u001b[1;32m   3750\u001b[0m             kwargs[\u001b[38;5;124m'\u001b[39m\u001b[38;5;124mout\u001b[39m\u001b[38;5;124m'\u001b[39m] \u001b[38;5;241m=\u001b[39m out[(\u001b[38;5;28mEllipsis\u001b[39m, ) \u001b[38;5;241m+\u001b[39m index_out]\n\u001b[0;32m-> 3752\u001b[0m r \u001b[38;5;241m=\u001b[39m func(a, \u001b[38;5;241m*\u001b[39m\u001b[38;5;241m*\u001b[39mkwargs)\n\u001b[1;32m   3754\u001b[0m \u001b[38;5;28;01mif\u001b[39;00m out \u001b[38;5;129;01mis\u001b[39;00m \u001b[38;5;129;01mnot\u001b[39;00m \u001b[38;5;28;01mNone\u001b[39;00m:\n\u001b[1;32m   3755\u001b[0m     \u001b[38;5;28;01mreturn\u001b[39;00m out\n",
      "File \u001b[0;32m~/anaconda3/envs/ieeg/lib/python3.11/site-packages/numpy/lib/function_base.py:4639\u001b[0m, in \u001b[0;36m_quantile_ureduce_func\u001b[0;34m(a, q, axis, out, overwrite_input, method)\u001b[0m\n\u001b[1;32m   4637\u001b[0m     \u001b[38;5;28;01melse\u001b[39;00m:\n\u001b[1;32m   4638\u001b[0m         arr \u001b[38;5;241m=\u001b[39m a\u001b[38;5;241m.\u001b[39mcopy()\n\u001b[0;32m-> 4639\u001b[0m result \u001b[38;5;241m=\u001b[39m _quantile(arr,\n\u001b[1;32m   4640\u001b[0m                    quantiles\u001b[38;5;241m=\u001b[39mq,\n\u001b[1;32m   4641\u001b[0m                    axis\u001b[38;5;241m=\u001b[39maxis,\n\u001b[1;32m   4642\u001b[0m                    method\u001b[38;5;241m=\u001b[39mmethod,\n\u001b[1;32m   4643\u001b[0m                    out\u001b[38;5;241m=\u001b[39mout)\n\u001b[1;32m   4644\u001b[0m \u001b[38;5;28;01mreturn\u001b[39;00m result\n",
      "File \u001b[0;32m~/anaconda3/envs/ieeg/lib/python3.11/site-packages/numpy/lib/function_base.py:4750\u001b[0m, in \u001b[0;36m_quantile\u001b[0;34m(arr, quantiles, axis, method, out)\u001b[0m\n\u001b[1;32m   4748\u001b[0m     slices_having_nans \u001b[38;5;241m=\u001b[39m \u001b[38;5;28;01mNone\u001b[39;00m\n\u001b[1;32m   4749\u001b[0m \u001b[38;5;66;03m# --- Get values from indexes\u001b[39;00m\n\u001b[0;32m-> 4750\u001b[0m previous \u001b[38;5;241m=\u001b[39m np\u001b[38;5;241m.\u001b[39mtake(arr, previous_indexes, axis\u001b[38;5;241m=\u001b[39mDATA_AXIS)\n\u001b[1;32m   4751\u001b[0m \u001b[38;5;28mnext\u001b[39m \u001b[38;5;241m=\u001b[39m np\u001b[38;5;241m.\u001b[39mtake(arr, next_indexes, axis\u001b[38;5;241m=\u001b[39mDATA_AXIS)\n\u001b[1;32m   4752\u001b[0m \u001b[38;5;66;03m# --- Linear interpolation\u001b[39;00m\n",
      "File \u001b[0;32m<__array_function__ internals>:200\u001b[0m, in \u001b[0;36mtake\u001b[0;34m(*args, **kwargs)\u001b[0m\n",
      "File \u001b[0;32m~/anaconda3/envs/ieeg/lib/python3.11/site-packages/numpy/core/fromnumeric.py:190\u001b[0m, in \u001b[0;36mtake\u001b[0;34m(a, indices, axis, out, mode)\u001b[0m\n\u001b[1;32m     93\u001b[0m \u001b[38;5;129m@array_function_dispatch\u001b[39m(_take_dispatcher)\n\u001b[1;32m     94\u001b[0m \u001b[38;5;28;01mdef\u001b[39;00m \u001b[38;5;21mtake\u001b[39m(a, indices, axis\u001b[38;5;241m=\u001b[39m\u001b[38;5;28;01mNone\u001b[39;00m, out\u001b[38;5;241m=\u001b[39m\u001b[38;5;28;01mNone\u001b[39;00m, mode\u001b[38;5;241m=\u001b[39m\u001b[38;5;124m'\u001b[39m\u001b[38;5;124mraise\u001b[39m\u001b[38;5;124m'\u001b[39m):\n\u001b[1;32m     95\u001b[0m \u001b[38;5;250m    \u001b[39m\u001b[38;5;124;03m\"\"\"\u001b[39;00m\n\u001b[1;32m     96\u001b[0m \u001b[38;5;124;03m    Take elements from an array along an axis.\u001b[39;00m\n\u001b[1;32m     97\u001b[0m \n\u001b[0;32m   (...)\u001b[0m\n\u001b[1;32m    188\u001b[0m \u001b[38;5;124;03m           [5, 7]])\u001b[39;00m\n\u001b[1;32m    189\u001b[0m \u001b[38;5;124;03m    \"\"\"\u001b[39;00m\n\u001b[0;32m--> 190\u001b[0m     \u001b[38;5;28;01mreturn\u001b[39;00m _wrapfunc(a, \u001b[38;5;124m'\u001b[39m\u001b[38;5;124mtake\u001b[39m\u001b[38;5;124m'\u001b[39m, indices, axis\u001b[38;5;241m=\u001b[39maxis, out\u001b[38;5;241m=\u001b[39mout, mode\u001b[38;5;241m=\u001b[39mmode)\n",
      "File \u001b[0;32m~/anaconda3/envs/ieeg/lib/python3.11/site-packages/numpy/core/fromnumeric.py:57\u001b[0m, in \u001b[0;36m_wrapfunc\u001b[0;34m(obj, method, *args, **kwds)\u001b[0m\n\u001b[1;32m     54\u001b[0m     \u001b[38;5;28;01mreturn\u001b[39;00m _wrapit(obj, method, \u001b[38;5;241m*\u001b[39margs, \u001b[38;5;241m*\u001b[39m\u001b[38;5;241m*\u001b[39mkwds)\n\u001b[1;32m     56\u001b[0m \u001b[38;5;28;01mtry\u001b[39;00m:\n\u001b[0;32m---> 57\u001b[0m     \u001b[38;5;28;01mreturn\u001b[39;00m bound(\u001b[38;5;241m*\u001b[39margs, \u001b[38;5;241m*\u001b[39m\u001b[38;5;241m*\u001b[39mkwds)\n\u001b[1;32m     58\u001b[0m \u001b[38;5;28;01mexcept\u001b[39;00m \u001b[38;5;167;01mTypeError\u001b[39;00m:\n\u001b[1;32m     59\u001b[0m     \u001b[38;5;66;03m# A TypeError occurs if the object does have such a method in its\u001b[39;00m\n\u001b[1;32m     60\u001b[0m     \u001b[38;5;66;03m# class, but its signature is not identical to that of NumPy's. This\u001b[39;00m\n\u001b[0;32m   (...)\u001b[0m\n\u001b[1;32m     64\u001b[0m     \u001b[38;5;66;03m# Call _wrapit from within the except clause to ensure a potential\u001b[39;00m\n\u001b[1;32m     65\u001b[0m     \u001b[38;5;66;03m# exception has a traceback chain.\u001b[39;00m\n\u001b[1;32m     66\u001b[0m     \u001b[38;5;28;01mreturn\u001b[39;00m _wrapit(obj, method, \u001b[38;5;241m*\u001b[39margs, \u001b[38;5;241m*\u001b[39m\u001b[38;5;241m*\u001b[39mkwds)\n",
      "\u001b[0;31mIndexError\u001b[0m: cannot do a non-empty take from an empty axes."
     ]
    },
    {
     "name": "stderr",
     "output_type": "stream",
     "text": [
      "/Users/jinjiang-macair/anaconda3/envs/ieeg/lib/python3.11/site-packages/jupyter_client/session.py:719: UserWarning:\n",
      "\n",
      "Message serialization failed with:\n",
      "Out of range float values are not JSON compliant\n",
      "Supporting this message is deprecated in jupyter-client 7, please make sure your message is JSON-compliant\n",
      "\n",
      "/Users/jinjiang-macair/anaconda3/envs/ieeg/lib/python3.11/site-packages/jupyter_client/session.py:719: UserWarning:\n",
      "\n",
      "Message serialization failed with:\n",
      "Out of range float values are not JSON compliant\n",
      "Supporting this message is deprecated in jupyter-client 7, please make sure your message is JSON-compliant\n",
      "\n",
      "/Users/jinjiang-macair/anaconda3/envs/ieeg/lib/python3.11/site-packages/jupyter_client/session.py:719: UserWarning:\n",
      "\n",
      "Message serialization failed with:\n",
      "Out of range float values are not JSON compliant\n",
      "Supporting this message is deprecated in jupyter-client 7, please make sure your message is JSON-compliant\n",
      "\n",
      "/Users/jinjiang-macair/anaconda3/envs/ieeg/lib/python3.11/site-packages/jupyter_client/session.py:719: UserWarning:\n",
      "\n",
      "Message serialization failed with:\n",
      "Out of range float values are not JSON compliant\n",
      "Supporting this message is deprecated in jupyter-client 7, please make sure your message is JSON-compliant\n",
      "\n"
     ]
    }
   ],
   "source": [
    "# Visualization # \n",
    "\n",
    "# Create a violin plot of the MRIQC metrics, comparing user level-data to API data \n",
    "# Also will print out a short description of the measure and what the appropriate range/values should be \n",
    "# Input the merged dataframe including the API and user data\n",
    "# Optional arguments include a list of specific variables that the user wants displayed \n",
    "# If no optional arguments included, will plot all measures \n",
    "\n",
    "v = make_vio_plot(vis_ready_df,IQM_to_plot,\"\",outliers=True)\n",
    "\n",
    "widgets.VBox([v[0],v[1]])"
   ]
  },
  {
   "cell_type": "code",
   "execution_count": null,
   "metadata": {},
   "outputs": [],
   "source": []
  }
 ],
 "metadata": {
  "kernelspec": {
   "display_name": "Python 3",
   "language": "python",
   "name": "python3"
  },
  "language_info": {
   "codemirror_mode": {
    "name": "ipython",
    "version": 3
   },
   "file_extension": ".py",
   "mimetype": "text/x-python",
   "name": "python",
   "nbconvert_exporter": "python",
   "pygments_lexer": "ipython3",
   "version": "3.11.3"
  }
 },
 "nbformat": 4,
 "nbformat_minor": 2
}
